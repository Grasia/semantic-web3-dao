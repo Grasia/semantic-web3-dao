{
 "cells": [
  {
   "cell_type": "markdown",
   "id": "c083e0f8",
   "metadata": {},
   "source": [
    "# Semantic Web3 DAO\n",
    "\n",
    "## Knowledge graph\n",
    "\n",
    "### Domain: Decentralized Autonomous Organization (DAO)\n",
    "\n",
    "Creation date: September 2022\n",
    "\n",
    "Author: Maria-Cruz Valiente\n"
   ]
  },
  {
   "cell_type": "code",
   "execution_count": 1,
   "id": "a5748c44",
   "metadata": {},
   "outputs": [],
   "source": [
    "import warnings\n",
    "warnings.filterwarnings('ignore')"
   ]
  },
  {
   "cell_type": "code",
   "execution_count": 2,
   "id": "28628f6f",
   "metadata": {},
   "outputs": [],
   "source": [
    "import pandas as pd\n",
    "import networkx as nx\n",
    "import matplotlib.pyplot as plt\n",
    "from IPython.display import Image\n",
    "import nxviz as nv"
   ]
  },
  {
   "cell_type": "markdown",
   "id": "fee5cfbf",
   "metadata": {},
   "source": [
    "### 1. Import data files"
   ]
  },
  {
   "cell_type": "code",
   "execution_count": null,
   "id": "42bbbfb1",
   "metadata": {},
   "outputs": [],
   "source": []
  },
  {
   "cell_type": "code",
   "execution_count": null,
   "id": "7c5cd55e",
   "metadata": {},
   "outputs": [],
   "source": []
  }
 ],
 "metadata": {
  "kernelspec": {
   "display_name": "Python 3 (ipykernel)",
   "language": "python",
   "name": "python3"
  },
  "language_info": {
   "codemirror_mode": {
    "name": "ipython",
    "version": 3
   },
   "file_extension": ".py",
   "mimetype": "text/x-python",
   "name": "python",
   "nbconvert_exporter": "python",
   "pygments_lexer": "ipython3",
   "version": "3.9.12"
  }
 },
 "nbformat": 4,
 "nbformat_minor": 5
}
